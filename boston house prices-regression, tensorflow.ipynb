{
 "cells": [
  {
   "cell_type": "code",
   "execution_count": 1,
   "metadata": {
    "collapsed": false
   },
   "outputs": [],
   "source": [
    "import numpy as np\n",
    "import tensorflow as tf\n",
    "import pandas as pd\n",
    "import itertools\n",
    "tf.logging.set_verbosity(tf.logging.INFO)"
   ]
  },
  {
   "cell_type": "code",
   "execution_count": 2,
   "metadata": {
    "collapsed": false
   },
   "outputs": [],
   "source": [
    "#input_fn\n",
    "#train_input_fn=tf.estimator.inputs.numpy_input_fn(x={'x':np.array(training_set.data)}, y=np.array(training_set.target), num_epochs=None, shuffle=True)"
   ]
  },
  {
   "cell_type": "code",
   "execution_count": 3,
   "metadata": {
    "collapsed": false
   },
   "outputs": [],
   "source": [
    "#constructing an input function in tensorflow numpy array\n",
    "#my_input_fn=tf.estimator.inputs.numpy_input_fn(x={'x':np.array(training_set.data)},\n",
    "                                                   #y=np.array(training_set.target), \n",
    "                                                   #num_epochs=None, shuffle=True)"
   ]
  },
  {
   "cell_type": "code",
   "execution_count": 4,
   "metadata": {
    "collapsed": true
   },
   "outputs": [],
   "source": [
    "#SHOULD WE HAVE TO ALWAYS SPECIFY THE COLUMN NAMES\n",
    "COLUMNS=['crim', 'zn','indus','nox', 'rm', 'age', \"dis\", \"tax\", \"ptratio\", \"medv\"]\n",
    "FEATURES=[\"crim\", \"zn\", \"indus\", \"nox\", \"rm\",\"age\", \"dis\", \"tax\", \"ptratio\"]\n",
    "LABEL=['medv']"
   ]
  },
  {
   "cell_type": "code",
   "execution_count": 35,
   "metadata": {
    "collapsed": false
   },
   "outputs": [],
   "source": [
    "training_set=pd.read_csv('boston_train.csv', skipinitialspace=True, skiprows=1, names=COLUMNS)\n",
    "test_set=pd.read_csv('boston_test.csv', skipinitialspace=True, skiprows=1, names=COLUMNS)\n",
    "prediction_set=pd.read_csv('boston_predict.csv', skipinitialspace=True, skiprows=1, names=COLUMNS)\n",
    "#training_set"
   ]
  },
  {
   "cell_type": "code",
   "execution_count": 37,
   "metadata": {
    "collapsed": false
   },
   "outputs": [],
   "source": [
    "feature_cols=[tf.feature_column.numeric_column(j) for j in FEATURES]\n",
    "#feature_cols"
   ]
  },
  {
   "cell_type": "code",
   "execution_count": 38,
   "metadata": {
    "collapsed": false
   },
   "outputs": [
    {
     "name": "stdout",
     "output_type": "stream",
     "text": [
      "INFO:tensorflow:Using default config.\n",
      "WARNING:tensorflow:Using temporary folder as model directory: C:\\Users\\saiva\\AppData\\Local\\Temp\\tmpegkomegv\n",
      "INFO:tensorflow:Using config: {'_session_config': None, '_keep_checkpoint_max': 5, '_save_summary_steps': 100, '_model_dir': 'C:\\\\Users\\\\saiva\\\\AppData\\\\Local\\\\Temp\\\\tmpegkomegv', '_tf_random_seed': 1, '_save_checkpoints_secs': 600, '_log_step_count_steps': 100, '_save_checkpoints_steps': None, '_keep_checkpoint_every_n_hours': 10000}\n"
     ]
    }
   ],
   "source": [
    "regressor=tf.estimator.DNNRegressor(feature_columns=feature_cols, hidden_units=[10 ,10])"
   ]
  },
  {
   "cell_type": "code",
   "execution_count": 39,
   "metadata": {
    "collapsed": false
   },
   "outputs": [],
   "source": [
    "def get_input_fn(dataset, num_epochs=None, shuffle=True):\n",
    "    return tf.estimator.inputs.pandas_input_fn(x=pd.DataFrame({k:dataset[k].values for k in FEATURES}),\n",
    "                                              y=pd.DataFrame(dataset[LABEL].values),\n",
    "                                              num_epochs=None, shuffle=True)\n"
   ]
  },
  {
   "cell_type": "code",
   "execution_count": 40,
   "metadata": {
    "collapsed": false
   },
   "outputs": [
    {
     "name": "stdout",
     "output_type": "stream",
     "text": [
      "INFO:tensorflow:Create CheckpointSaverHook.\n",
      "INFO:tensorflow:Saving checkpoints for 1 into C:\\Users\\saiva\\AppData\\Local\\Temp\\tmpegkomegv\\model.ckpt.\n",
      "INFO:tensorflow:step = 1, loss = 64565.0\n",
      "INFO:tensorflow:global_step/sec: 179.056\n",
      "INFO:tensorflow:step = 101, loss = 9972.24 (0.560 sec)\n",
      "INFO:tensorflow:global_step/sec: 243.255\n",
      "INFO:tensorflow:step = 201, loss = 8853.87 (0.412 sec)\n",
      "INFO:tensorflow:global_step/sec: 249.631\n",
      "INFO:tensorflow:step = 301, loss = 9825.82 (0.400 sec)\n",
      "INFO:tensorflow:global_step/sec: 249.977\n",
      "INFO:tensorflow:step = 401, loss = 9159.71 (0.401 sec)\n",
      "INFO:tensorflow:global_step/sec: 242.059\n",
      "INFO:tensorflow:step = 501, loss = 7006.46 (0.413 sec)\n",
      "INFO:tensorflow:global_step/sec: 245.65\n",
      "INFO:tensorflow:step = 601, loss = 7250.48 (0.407 sec)\n",
      "INFO:tensorflow:global_step/sec: 193.847\n",
      "INFO:tensorflow:step = 701, loss = 7893.51 (0.523 sec)\n",
      "INFO:tensorflow:global_step/sec: 206.654\n",
      "INFO:tensorflow:step = 801, loss = 5549.97 (0.478 sec)\n",
      "INFO:tensorflow:global_step/sec: 233.33\n",
      "INFO:tensorflow:step = 901, loss = 8305.5 (0.425 sec)\n",
      "INFO:tensorflow:global_step/sec: 248.095\n",
      "INFO:tensorflow:step = 1001, loss = 8196.73 (0.405 sec)\n",
      "INFO:tensorflow:global_step/sec: 235.222\n",
      "INFO:tensorflow:step = 1101, loss = 5681.68 (0.424 sec)\n",
      "INFO:tensorflow:global_step/sec: 250.503\n",
      "INFO:tensorflow:step = 1201, loss = 4125.63 (0.399 sec)\n",
      "INFO:tensorflow:global_step/sec: 243.303\n",
      "INFO:tensorflow:step = 1301, loss = 5070.77 (0.411 sec)\n",
      "INFO:tensorflow:global_step/sec: 246.534\n",
      "INFO:tensorflow:step = 1401, loss = 4844.88 (0.407 sec)\n",
      "INFO:tensorflow:global_step/sec: 231.94\n",
      "INFO:tensorflow:step = 1501, loss = 3856.59 (0.431 sec)\n",
      "INFO:tensorflow:global_step/sec: 261.07\n",
      "INFO:tensorflow:step = 1601, loss = 6526.32 (0.383 sec)\n",
      "INFO:tensorflow:global_step/sec: 236.885\n",
      "INFO:tensorflow:step = 1701, loss = 4247.62 (0.423 sec)\n",
      "INFO:tensorflow:global_step/sec: 235.778\n",
      "INFO:tensorflow:step = 1801, loss = 5518.39 (0.424 sec)\n",
      "INFO:tensorflow:global_step/sec: 239.436\n",
      "INFO:tensorflow:step = 1901, loss = 3965.41 (0.418 sec)\n",
      "INFO:tensorflow:global_step/sec: 239.457\n",
      "INFO:tensorflow:step = 2001, loss = 4134.05 (0.418 sec)\n",
      "INFO:tensorflow:global_step/sec: 256.058\n",
      "INFO:tensorflow:step = 2101, loss = 5064.83 (0.391 sec)\n",
      "INFO:tensorflow:global_step/sec: 252.812\n",
      "INFO:tensorflow:step = 2201, loss = 3207.26 (0.395 sec)\n",
      "INFO:tensorflow:global_step/sec: 254.749\n",
      "INFO:tensorflow:step = 2301, loss = 4829.46 (0.394 sec)\n",
      "INFO:tensorflow:global_step/sec: 219.396\n",
      "INFO:tensorflow:step = 2401, loss = 5039.25 (0.460 sec)\n",
      "INFO:tensorflow:global_step/sec: 215.915\n",
      "INFO:tensorflow:step = 2501, loss = 5468.55 (0.461 sec)\n",
      "INFO:tensorflow:global_step/sec: 199.269\n",
      "INFO:tensorflow:step = 2601, loss = 3876.29 (0.506 sec)\n",
      "INFO:tensorflow:global_step/sec: 205.034\n",
      "INFO:tensorflow:step = 2701, loss = 5733.26 (0.486 sec)\n",
      "INFO:tensorflow:global_step/sec: 219.657\n",
      "INFO:tensorflow:step = 2801, loss = 4383.3 (0.452 sec)\n",
      "INFO:tensorflow:global_step/sec: 251.204\n",
      "INFO:tensorflow:step = 2901, loss = 4462.09 (0.399 sec)\n",
      "INFO:tensorflow:global_step/sec: 249.6\n",
      "INFO:tensorflow:step = 3001, loss = 7876.97 (0.400 sec)\n",
      "INFO:tensorflow:global_step/sec: 211.299\n",
      "INFO:tensorflow:step = 3101, loss = 6469.18 (0.472 sec)\n",
      "INFO:tensorflow:global_step/sec: 231.134\n",
      "INFO:tensorflow:step = 3201, loss = 4392.16 (0.434 sec)\n",
      "INFO:tensorflow:global_step/sec: 247.173\n",
      "INFO:tensorflow:step = 3301, loss = 4535.67 (0.405 sec)\n",
      "INFO:tensorflow:global_step/sec: 243.183\n",
      "INFO:tensorflow:step = 3401, loss = 2129.1 (0.412 sec)\n",
      "INFO:tensorflow:global_step/sec: 202.747\n",
      "INFO:tensorflow:step = 3501, loss = 5046.7 (0.495 sec)\n",
      "INFO:tensorflow:global_step/sec: 240.02\n",
      "INFO:tensorflow:step = 3601, loss = 3928.6 (0.414 sec)\n",
      "INFO:tensorflow:global_step/sec: 254.099\n",
      "INFO:tensorflow:step = 3701, loss = 4435.58 (0.394 sec)\n",
      "INFO:tensorflow:global_step/sec: 244.131\n",
      "INFO:tensorflow:step = 3801, loss = 3295.43 (0.410 sec)\n",
      "INFO:tensorflow:global_step/sec: 246.867\n",
      "INFO:tensorflow:step = 3901, loss = 3897.82 (0.405 sec)\n",
      "INFO:tensorflow:global_step/sec: 222.125\n",
      "INFO:tensorflow:step = 4001, loss = 2900.67 (0.456 sec)\n",
      "INFO:tensorflow:global_step/sec: 227.444\n",
      "INFO:tensorflow:step = 4101, loss = 3637.69 (0.434 sec)\n",
      "INFO:tensorflow:global_step/sec: 242.957\n",
      "INFO:tensorflow:step = 4201, loss = 3688.66 (0.412 sec)\n",
      "INFO:tensorflow:global_step/sec: 256.057\n",
      "INFO:tensorflow:step = 4301, loss = 4464.32 (0.391 sec)\n",
      "INFO:tensorflow:global_step/sec: 254.087\n",
      "INFO:tensorflow:step = 4401, loss = 4637.22 (0.393 sec)\n",
      "INFO:tensorflow:global_step/sec: 231.671\n",
      "INFO:tensorflow:step = 4501, loss = 3918.25 (0.434 sec)\n",
      "INFO:tensorflow:global_step/sec: 254.1\n",
      "INFO:tensorflow:step = 4601, loss = 4731.54 (0.393 sec)\n",
      "INFO:tensorflow:global_step/sec: 240.324\n",
      "INFO:tensorflow:step = 4701, loss = 7150.15 (0.415 sec)\n",
      "INFO:tensorflow:global_step/sec: 263.482\n",
      "INFO:tensorflow:step = 4801, loss = 3289.07 (0.381 sec)\n",
      "INFO:tensorflow:global_step/sec: 243.551\n",
      "INFO:tensorflow:step = 4901, loss = 2915.8 (0.409 sec)\n",
      "INFO:tensorflow:Saving checkpoints for 5000 into C:\\Users\\saiva\\AppData\\Local\\Temp\\tmpegkomegv\\model.ckpt.\n",
      "INFO:tensorflow:Loss for final step: 2265.3.\n"
     ]
    },
    {
     "data": {
      "text/plain": [
       "<tensorflow.python.estimator.canned.dnn.DNNRegressor at 0x2972a9a74e0>"
      ]
     },
     "execution_count": 40,
     "metadata": {},
     "output_type": "execute_result"
    }
   ],
   "source": [
    "regressor.train(input_fn=get_input_fn(training_set), steps=5000)"
   ]
  },
  {
   "cell_type": "code",
   "execution_count": null,
   "metadata": {
    "collapsed": true
   },
   "outputs": [],
   "source": []
  }
 ],
 "metadata": {
  "anaconda-cloud": {},
  "kernelspec": {
   "display_name": "Python [default]",
   "language": "python",
   "name": "python3"
  },
  "language_info": {
   "codemirror_mode": {
    "name": "ipython",
    "version": 3
   },
   "file_extension": ".py",
   "mimetype": "text/x-python",
   "name": "python",
   "nbconvert_exporter": "python",
   "pygments_lexer": "ipython3",
   "version": "3.5.2"
  }
 },
 "nbformat": 4,
 "nbformat_minor": 2
}
