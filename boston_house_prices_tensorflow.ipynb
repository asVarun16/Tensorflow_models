{
 "cells": [
  {
   "cell_type": "code",
   "execution_count": 26,
   "metadata": {
    "collapsed": true
   },
   "outputs": [],
   "source": [
    "import pandas as pd\n",
    "import numpy as np\n",
    "import tensorflow as tf\n",
    "tf.logging.set_verbosity(tf.logging.INFO)"
   ]
  },
  {
   "cell_type": "code",
   "execution_count": 27,
   "metadata": {
    "collapsed": true
   },
   "outputs": [],
   "source": [
    "COLUMNS=['crim', 'zn','indus','nox', 'rm', 'age', \"dis\", \"tax\", \"ptratio\", \"medv\"]\n",
    "FEATURES=[\"crim\", \"zn\", \"indus\", \"nox\", \"rm\",\"age\", \"dis\", \"tax\", \"ptratio\"]\n",
    "LABEL=['medv']"
   ]
  },
  {
   "cell_type": "code",
   "execution_count": 28,
   "metadata": {
    "collapsed": false
   },
   "outputs": [],
   "source": [
    "training_set=pd.read_csv('boston_train.csv', skipinitialspace=True, skiprows=1, names=COLUMNS)\n",
    "test_set=pd.read_csv('boston_test.csv', skipinitialspace=True, skiprows=1, names=COLUMNS)\n",
    "prediction_set=pd.read_csv('boston_predict.csv', skipinitialspace=True, skiprows=1, names=COLUMNS)"
   ]
  },
  {
   "cell_type": "code",
   "execution_count": 29,
   "metadata": {
    "collapsed": false
   },
   "outputs": [
    {
     "data": {
      "text/plain": [
       "[_NumericColumn(key='crim', shape=(1,), default_value=None, dtype=tf.float32, normalizer_fn=None),\n",
       " _NumericColumn(key='zn', shape=(1,), default_value=None, dtype=tf.float32, normalizer_fn=None),\n",
       " _NumericColumn(key='indus', shape=(1,), default_value=None, dtype=tf.float32, normalizer_fn=None),\n",
       " _NumericColumn(key='nox', shape=(1,), default_value=None, dtype=tf.float32, normalizer_fn=None),\n",
       " _NumericColumn(key='rm', shape=(1,), default_value=None, dtype=tf.float32, normalizer_fn=None),\n",
       " _NumericColumn(key='age', shape=(1,), default_value=None, dtype=tf.float32, normalizer_fn=None),\n",
       " _NumericColumn(key='dis', shape=(1,), default_value=None, dtype=tf.float32, normalizer_fn=None),\n",
       " _NumericColumn(key='tax', shape=(1,), default_value=None, dtype=tf.float32, normalizer_fn=None),\n",
       " _NumericColumn(key='ptratio', shape=(1,), default_value=None, dtype=tf.float32, normalizer_fn=None)]"
      ]
     },
     "execution_count": 29,
     "metadata": {},
     "output_type": "execute_result"
    }
   ],
   "source": [
    "feature_cols=[tf.feature_column.numeric_column(k) for k in FEATURES]\n",
    "feature_cols"
   ]
  },
  {
   "cell_type": "code",
   "execution_count": 45,
   "metadata": {
    "collapsed": false
   },
   "outputs": [],
   "source": [
    "def get_input_fn(data_set, num_epochs=None, shuffle=True):\n",
    "    return tf.estimator.inputs.pandas_input_fn(\n",
    "            x=pd.DataFrame({k:data_set[k].values for k in FEATURES}),\n",
    "            y=pd.DataFrame(data_set[LABEL].values),\n",
    "            num_epochs=num_epochs, shuffle=shuffle)"
   ]
  },
  {
   "cell_type": "code",
   "execution_count": 46,
   "metadata": {
    "collapsed": false
   },
   "outputs": [
    {
     "name": "stdout",
     "output_type": "stream",
     "text": [
      "INFO:tensorflow:Using default config.\n",
      "WARNING:tensorflow:Using temporary folder as model directory: C:\\Users\\saiva\\AppData\\Local\\Temp\\tmp2t5ry1ka\n",
      "INFO:tensorflow:Using config: {'_log_step_count_steps': 100, '_keep_checkpoint_every_n_hours': 10000, '_save_checkpoints_secs': 600, '_tf_random_seed': 1, '_session_config': None, '_model_dir': 'C:\\\\Users\\\\saiva\\\\AppData\\\\Local\\\\Temp\\\\tmp2t5ry1ka', '_save_summary_steps': 100, '_keep_checkpoint_max': 5, '_save_checkpoints_steps': None}\n"
     ]
    }
   ],
   "source": [
    "regressor=tf.estimator.DNNRegressor(feature_columns=feature_cols, hidden_units=[10,10])"
   ]
  },
  {
   "cell_type": "code",
   "execution_count": 47,
   "metadata": {
    "collapsed": false
   },
   "outputs": [
    {
     "name": "stdout",
     "output_type": "stream",
     "text": [
      "INFO:tensorflow:Create CheckpointSaverHook.\n",
      "INFO:tensorflow:Saving checkpoints for 1 into C:\\Users\\saiva\\AppData\\Local\\Temp\\tmp2t5ry1ka\\model.ckpt.\n",
      "INFO:tensorflow:loss = 53072.3, step = 1\n",
      "INFO:tensorflow:global_step/sec: 187.207\n",
      "INFO:tensorflow:loss = 11333.6, step = 101 (0.544 sec)\n",
      "INFO:tensorflow:global_step/sec: 223.72\n",
      "INFO:tensorflow:loss = 8920.56, step = 201 (0.455 sec)\n",
      "INFO:tensorflow:global_step/sec: 220.304\n",
      "INFO:tensorflow:loss = 8136.07, step = 301 (0.436 sec)\n",
      "INFO:tensorflow:global_step/sec: 235.074\n",
      "INFO:tensorflow:loss = 8049.6, step = 401 (0.425 sec)\n",
      "INFO:tensorflow:global_step/sec: 229.475\n",
      "INFO:tensorflow:loss = 7248.42, step = 501 (0.437 sec)\n",
      "INFO:tensorflow:global_step/sec: 237.21\n",
      "INFO:tensorflow:loss = 8359.18, step = 601 (0.421 sec)\n",
      "INFO:tensorflow:global_step/sec: 223.94\n",
      "INFO:tensorflow:loss = 7422.33, step = 701 (0.451 sec)\n",
      "INFO:tensorflow:global_step/sec: 231.183\n",
      "INFO:tensorflow:loss = 7473.14, step = 801 (0.429 sec)\n",
      "INFO:tensorflow:global_step/sec: 228.741\n",
      "INFO:tensorflow:loss = 6139.46, step = 901 (0.440 sec)\n",
      "INFO:tensorflow:global_step/sec: 233.658\n",
      "INFO:tensorflow:loss = 4535.51, step = 1001 (0.425 sec)\n",
      "INFO:tensorflow:global_step/sec: 236.573\n",
      "INFO:tensorflow:loss = 4410.15, step = 1101 (0.440 sec)\n",
      "INFO:tensorflow:global_step/sec: 220.579\n",
      "INFO:tensorflow:loss = 5373.62, step = 1201 (0.436 sec)\n",
      "INFO:tensorflow:global_step/sec: 230.949\n",
      "INFO:tensorflow:loss = 5040.19, step = 1301 (0.433 sec)\n",
      "INFO:tensorflow:global_step/sec: 232.423\n",
      "INFO:tensorflow:loss = 4889.07, step = 1401 (0.430 sec)\n",
      "INFO:tensorflow:global_step/sec: 234.46\n",
      "INFO:tensorflow:loss = 4384.23, step = 1501 (0.427 sec)\n",
      "INFO:tensorflow:global_step/sec: 229.146\n",
      "INFO:tensorflow:loss = 2929.73, step = 1601 (0.436 sec)\n",
      "INFO:tensorflow:global_step/sec: 230.684\n",
      "INFO:tensorflow:loss = 5653.56, step = 1701 (0.437 sec)\n",
      "INFO:tensorflow:global_step/sec: 232.702\n",
      "INFO:tensorflow:loss = 4170.55, step = 1801 (0.427 sec)\n",
      "INFO:tensorflow:global_step/sec: 239.045\n",
      "INFO:tensorflow:loss = 4818.1, step = 1901 (0.435 sec)\n",
      "INFO:tensorflow:global_step/sec: 222.203\n",
      "INFO:tensorflow:loss = 2962.18, step = 2001 (0.448 sec)\n",
      "INFO:tensorflow:global_step/sec: 237.979\n",
      "INFO:tensorflow:loss = 3891.68, step = 2101 (0.421 sec)\n",
      "INFO:tensorflow:global_step/sec: 224.611\n",
      "INFO:tensorflow:loss = 3411.86, step = 2201 (0.430 sec)\n",
      "INFO:tensorflow:global_step/sec: 236.838\n",
      "INFO:tensorflow:loss = 3162.77, step = 2301 (0.432 sec)\n",
      "INFO:tensorflow:global_step/sec: 229.403\n",
      "INFO:tensorflow:loss = 3458.37, step = 2401 (0.438 sec)\n",
      "INFO:tensorflow:global_step/sec: 197.526\n",
      "INFO:tensorflow:loss = 4103.47, step = 2501 (0.508 sec)\n",
      "INFO:tensorflow:global_step/sec: 231.812\n",
      "INFO:tensorflow:loss = 3198.36, step = 2601 (0.434 sec)\n",
      "INFO:tensorflow:global_step/sec: 249.332\n",
      "INFO:tensorflow:loss = 4004.84, step = 2701 (0.384 sec)\n",
      "INFO:tensorflow:global_step/sec: 238.028\n",
      "INFO:tensorflow:loss = 3592.23, step = 2801 (0.426 sec)\n",
      "INFO:tensorflow:global_step/sec: 206.786\n",
      "INFO:tensorflow:loss = 2359.83, step = 2901 (0.487 sec)\n",
      "INFO:tensorflow:global_step/sec: 230.33\n",
      "INFO:tensorflow:loss = 3438.94, step = 3001 (0.442 sec)\n",
      "INFO:tensorflow:global_step/sec: 229.961\n",
      "INFO:tensorflow:loss = 4917.93, step = 3101 (0.434 sec)\n",
      "INFO:tensorflow:global_step/sec: 232.194\n",
      "INFO:tensorflow:loss = 1965.72, step = 3201 (0.431 sec)\n",
      "INFO:tensorflow:global_step/sec: 230.655\n",
      "INFO:tensorflow:loss = 3753.09, step = 3301 (0.417 sec)\n",
      "INFO:tensorflow:global_step/sec: 230.635\n",
      "INFO:tensorflow:loss = 3338.16, step = 3401 (0.434 sec)\n",
      "INFO:tensorflow:global_step/sec: 243.762\n",
      "INFO:tensorflow:loss = 2967.19, step = 3501 (0.426 sec)\n",
      "INFO:tensorflow:global_step/sec: 228.007\n",
      "INFO:tensorflow:loss = 2598.34, step = 3601 (0.442 sec)\n",
      "INFO:tensorflow:global_step/sec: 237.071\n",
      "INFO:tensorflow:loss = 5183.72, step = 3701 (0.404 sec)\n",
      "INFO:tensorflow:global_step/sec: 241.687\n",
      "INFO:tensorflow:loss = 3198.9, step = 3801 (0.431 sec)\n",
      "INFO:tensorflow:global_step/sec: 235.59\n",
      "INFO:tensorflow:loss = 3940.65, step = 3901 (0.423 sec)\n",
      "INFO:tensorflow:global_step/sec: 235.629\n",
      "INFO:tensorflow:loss = 4196.3, step = 4001 (0.408 sec)\n",
      "INFO:tensorflow:global_step/sec: 228.93\n",
      "INFO:tensorflow:loss = 4369.13, step = 4101 (0.437 sec)\n",
      "INFO:tensorflow:global_step/sec: 236.698\n",
      "INFO:tensorflow:loss = 3283.27, step = 4201 (0.423 sec)\n",
      "INFO:tensorflow:global_step/sec: 236.779\n",
      "INFO:tensorflow:loss = 4612.86, step = 4301 (0.427 sec)\n",
      "INFO:tensorflow:global_step/sec: 246.207\n",
      "INFO:tensorflow:loss = 4737.01, step = 4401 (0.403 sec)\n",
      "INFO:tensorflow:global_step/sec: 226.414\n",
      "INFO:tensorflow:loss = 4272.58, step = 4501 (0.451 sec)\n",
      "INFO:tensorflow:global_step/sec: 237.247\n",
      "INFO:tensorflow:loss = 5192.12, step = 4601 (0.409 sec)\n",
      "INFO:tensorflow:global_step/sec: 246.479\n",
      "INFO:tensorflow:loss = 4160.99, step = 4701 (0.416 sec)\n",
      "INFO:tensorflow:global_step/sec: 234.612\n",
      "INFO:tensorflow:loss = 5023.5, step = 4801 (0.424 sec)\n",
      "INFO:tensorflow:global_step/sec: 248.876\n",
      "INFO:tensorflow:loss = 2729.49, step = 4901 (0.395 sec)\n",
      "INFO:tensorflow:Saving checkpoints for 5000 into C:\\Users\\saiva\\AppData\\Local\\Temp\\tmp2t5ry1ka\\model.ckpt.\n",
      "INFO:tensorflow:Loss for final step: 7098.93.\n"
     ]
    },
    {
     "data": {
      "text/plain": [
       "<tensorflow.python.estimator.canned.dnn.DNNRegressor at 0x228eb042eb8>"
      ]
     },
     "execution_count": 47,
     "metadata": {},
     "output_type": "execute_result"
    }
   ],
   "source": [
    "regressor.train(input_fn=get_input_fn(training_set), steps=5000)"
   ]
  },
  {
   "cell_type": "code",
   "execution_count": 48,
   "metadata": {
    "collapsed": false
   },
   "outputs": [
    {
     "name": "stdout",
     "output_type": "stream",
     "text": [
      "INFO:tensorflow:Starting evaluation at 2017-11-18-08:34:34\n",
      "INFO:tensorflow:Restoring parameters from C:\\Users\\saiva\\AppData\\Local\\Temp\\tmp2t5ry1ka\\model.ckpt-5000\n",
      "INFO:tensorflow:Finished evaluation at 2017-11-18-08:34:35\n",
      "INFO:tensorflow:Saving dict for global step 5000: average_loss = 20.5795, global_step = 5000, loss = 2057.95\n"
     ]
    }
   ],
   "source": [
    "ev=regressor.evaluate(input_fn=get_input_fn(test_set, num_epochs=1, shuffle=False))"
   ]
  },
  {
   "cell_type": "code",
   "execution_count": 50,
   "metadata": {
    "collapsed": false
   },
   "outputs": [
    {
     "name": "stdout",
     "output_type": "stream",
     "text": [
      "loss:2057.952637\n"
     ]
    }
   ],
   "source": [
    "loss_score=ev['loss']\n",
    "print('loss:{0:f}'.format(loss_score))"
   ]
  },
  {
   "cell_type": "markdown",
   "metadata": {},
   "source": [
    "**defining the logistic regression model**"
   ]
  },
  {
   "cell_type": "code",
   "execution_count": null,
   "metadata": {
    "collapsed": true
   },
   "outputs": [],
   "source": []
  }
 ],
 "metadata": {
  "kernelspec": {
   "display_name": "Python [default]",
   "language": "python",
   "name": "python3"
  },
  "language_info": {
   "codemirror_mode": {
    "name": "ipython",
    "version": 3
   },
   "file_extension": ".py",
   "mimetype": "text/x-python",
   "name": "python",
   "nbconvert_exporter": "python",
   "pygments_lexer": "ipython3",
   "version": "3.5.2"
  }
 },
 "nbformat": 4,
 "nbformat_minor": 2
}
