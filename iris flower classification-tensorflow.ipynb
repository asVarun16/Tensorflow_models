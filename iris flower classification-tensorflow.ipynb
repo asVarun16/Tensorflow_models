{
 "cells": [
  {
   "cell_type": "code",
   "execution_count": 1,
   "metadata": {
    "collapsed": true
   },
   "outputs": [],
   "source": [
    "import pandas as pd\n",
    "import numpy as np\n",
    "import tensorflow as tf"
   ]
  },
  {
   "cell_type": "code",
   "execution_count": 2,
   "metadata": {
    "collapsed": true
   },
   "outputs": [],
   "source": [
    "IRIS_TRAINING='iris_training.csv'\n",
    "IRIS_TEST='iris_test.csv'"
   ]
  },
  {
   "cell_type": "code",
   "execution_count": 3,
   "metadata": {
    "collapsed": false
   },
   "outputs": [
    {
     "name": "stdout",
     "output_type": "stream",
     "text": [
      "iris_training.csv\n"
     ]
    }
   ],
   "source": [
    "print(IRIS_TRAINING)"
   ]
  },
  {
   "cell_type": "code",
   "execution_count": 7,
   "metadata": {
    "collapsed": false
   },
   "outputs": [],
   "source": [
    "#load datasets\n",
    "training_set=tf.contrib.learn.datasets.base.load_csv_with_header(IRIS_TRAINING, target_dtype=np.int, features_dtype=np.float32)\n",
    "test_set=tf.contrib.learn.datasets.base.load_csv_with_header(IRIS_TEST, target_dtype=np.int, features_dtype=np.float32)"
   ]
  },
  {
   "cell_type": "code",
   "execution_count": 10,
   "metadata": {
    "collapsed": false
   },
   "outputs": [
    {
     "name": "stdout",
     "output_type": "stream",
     "text": [
      "[1 2 0 1 1 1 0 2 1 2 2 0 2 1 1 0 1 0 0 2 0 1 2 1 1 1 0 1 2 1]\n"
     ]
    }
   ],
   "source": [
    "print(test_set.target)"
   ]
  },
  {
   "cell_type": "code",
   "execution_count": 11,
   "metadata": {
    "collapsed": true
   },
   "outputs": [],
   "source": [
    "feature_columns=[tf.feature_column.numeric_column('x', shape=[4])]"
   ]
  },
  {
   "cell_type": "code",
   "execution_count": 12,
   "metadata": {
    "collapsed": false
   },
   "outputs": [
    {
     "name": "stdout",
     "output_type": "stream",
     "text": [
      "[_NumericColumn(key='x', shape=(4,), default_value=None, dtype=tf.float32, normalizer_fn=None)]\n"
     ]
    }
   ],
   "source": [
    "print(feature_columns)"
   ]
  },
  {
   "cell_type": "code",
   "execution_count": 20,
   "metadata": {
    "collapsed": false
   },
   "outputs": [
    {
     "name": "stdout",
     "output_type": "stream",
     "text": [
      "INFO:tensorflow:Using default config.\n",
      "WARNING:tensorflow:Using temporary folder as model directory: C:\\Users\\saiva\\AppData\\Local\\Temp\\tmp6mluupep\n",
      "INFO:tensorflow:Using config: {'_tf_random_seed': 1, '_keep_checkpoint_max': 5, '_session_config': None, '_model_dir': 'C:\\\\Users\\\\saiva\\\\AppData\\\\Local\\\\Temp\\\\tmp6mluupep', '_save_checkpoints_secs': 600, '_log_step_count_steps': 100, '_save_summary_steps': 100, '_save_checkpoints_steps': None, '_keep_checkpoint_every_n_hours': 10000}\n"
     ]
    }
   ],
   "source": [
    "classifier=tf.estimator.DNNClassifier(feature_columns=feature_columns, hidden_units=[10,20,10], n_classes=3)"
   ]
  },
  {
   "cell_type": "code",
   "execution_count": 23,
   "metadata": {
    "collapsed": false
   },
   "outputs": [],
   "source": [
    "#defining the training inputs#HELPS TO GENERATE THE DATA FOR THE MODEL\n",
    "train_input_fn=tf.estimator.inputs.numpy_input_fn(x={\"x\":np.array(training_set.data)}, \n",
    "                                                  y=np.array(training_set.target), \n",
    "                                                  num_epochs=None, shuffle=True)"
   ]
  },
  {
   "cell_type": "code",
   "execution_count": 25,
   "metadata": {
    "collapsed": false
   },
   "outputs": [
    {
     "name": "stdout",
     "output_type": "stream",
     "text": [
      "INFO:tensorflow:Create CheckpointSaverHook.\n",
      "INFO:tensorflow:Restoring parameters from C:\\Users\\saiva\\AppData\\Local\\Temp\\tmp6mluupep\\model.ckpt-2000\n",
      "INFO:tensorflow:Saving checkpoints for 2001 into C:\\Users\\saiva\\AppData\\Local\\Temp\\tmp6mluupep\\model.ckpt.\n",
      "INFO:tensorflow:step = 2001, loss = 3.09917\n",
      "INFO:tensorflow:global_step/sec: 545.125\n",
      "INFO:tensorflow:step = 2101, loss = 7.87087 (0.184 sec)\n",
      "INFO:tensorflow:global_step/sec: 622.054\n",
      "INFO:tensorflow:step = 2201, loss = 8.87877 (0.162 sec)\n",
      "INFO:tensorflow:global_step/sec: 649.871\n",
      "INFO:tensorflow:step = 2301, loss = 2.37617 (0.154 sec)\n",
      "INFO:tensorflow:global_step/sec: 617.696\n",
      "INFO:tensorflow:step = 2401, loss = 3.38845 (0.160 sec)\n",
      "INFO:tensorflow:global_step/sec: 642.605\n",
      "INFO:tensorflow:step = 2501, loss = 2.20298 (0.157 sec)\n",
      "INFO:tensorflow:global_step/sec: 661.063\n",
      "INFO:tensorflow:step = 2601, loss = 8.84737 (0.146 sec)\n",
      "INFO:tensorflow:global_step/sec: 639.335\n",
      "INFO:tensorflow:step = 2701, loss = 3.61647 (0.156 sec)\n",
      "INFO:tensorflow:global_step/sec: 574.834\n",
      "INFO:tensorflow:step = 2801, loss = 6.14101 (0.190 sec)\n",
      "INFO:tensorflow:global_step/sec: 567.077\n",
      "INFO:tensorflow:step = 2901, loss = 9.39659 (0.166 sec)\n",
      "INFO:tensorflow:global_step/sec: 565.763\n",
      "INFO:tensorflow:step = 3001, loss = 4.9979 (0.177 sec)\n",
      "INFO:tensorflow:global_step/sec: 680.747\n",
      "INFO:tensorflow:step = 3101, loss = 7.18372 (0.146 sec)\n",
      "INFO:tensorflow:global_step/sec: 648.011\n",
      "INFO:tensorflow:step = 3201, loss = 6.40259 (0.152 sec)\n",
      "INFO:tensorflow:global_step/sec: 685.729\n",
      "INFO:tensorflow:step = 3301, loss = 6.16942 (0.146 sec)\n",
      "INFO:tensorflow:global_step/sec: 686.297\n",
      "INFO:tensorflow:step = 3401, loss = 9.13898 (0.146 sec)\n",
      "INFO:tensorflow:global_step/sec: 655.51\n",
      "INFO:tensorflow:step = 3501, loss = 6.04058 (0.153 sec)\n",
      "INFO:tensorflow:global_step/sec: 640.68\n",
      "INFO:tensorflow:step = 3601, loss = 7.08606 (0.155 sec)\n",
      "INFO:tensorflow:global_step/sec: 630.49\n",
      "INFO:tensorflow:step = 3701, loss = 1.47922 (0.160 sec)\n",
      "INFO:tensorflow:global_step/sec: 629.62\n",
      "INFO:tensorflow:step = 3801, loss = 3.21421 (0.158 sec)\n",
      "INFO:tensorflow:global_step/sec: 654.104\n",
      "INFO:tensorflow:step = 3901, loss = 4.4852 (0.151 sec)\n",
      "INFO:tensorflow:Saving checkpoints for 4000 into C:\\Users\\saiva\\AppData\\Local\\Temp\\tmp6mluupep\\model.ckpt.\n",
      "INFO:tensorflow:Loss for final step: 6.19152.\n"
     ]
    },
    {
     "data": {
      "text/plain": [
       "<tensorflow.python.estimator.canned.dnn.DNNClassifier at 0x13c19d146a0>"
      ]
     },
     "execution_count": 25,
     "metadata": {},
     "output_type": "execute_result"
    }
   ],
   "source": [
    "#training the model\n",
    "classifier.train(input_fn=train_input_fn, steps=2000)"
   ]
  },
  {
   "cell_type": "code",
   "execution_count": 33,
   "metadata": {
    "collapsed": false
   },
   "outputs": [],
   "source": [
    "#evaluate the model accuracy\n",
    "#defining a test input function\n",
    "test_input_fn=tf.estimator.inputs.numpy_input_fn(x={'x':np.array(test_set.data)}, \n",
    "                                                 y=np.array(test_set.target), \n",
    "                                                 num_epochs=1, shuffle=False)"
   ]
  },
  {
   "cell_type": "code",
   "execution_count": 35,
   "metadata": {
    "collapsed": false
   },
   "outputs": [
    {
     "name": "stdout",
     "output_type": "stream",
     "text": [
      "INFO:tensorflow:Starting evaluation at 2017-11-06-09:55:40\n",
      "INFO:tensorflow:Restoring parameters from C:\\Users\\saiva\\AppData\\Local\\Temp\\tmp6mluupep\\model.ckpt-4000\n",
      "INFO:tensorflow:Finished evaluation at 2017-11-06-09:55:41\n",
      "INFO:tensorflow:Saving dict for global step 4000: accuracy = 0.966667, average_loss = 0.0741416, global_step = 4000, loss = 2.22425\n",
      "test accuracy:0.966667\n"
     ]
    }
   ],
   "source": [
    "#evaluate the accuracy\n",
    "accuracy_score=classifier.evaluate(input_fn=test_input_fn)['accuracy']\n",
    "print('test accuracy:{0:f}'.format(accuracy_score))"
   ]
  },
  {
   "cell_type": "code",
   "execution_count": null,
   "metadata": {
    "collapsed": true
   },
   "outputs": [],
   "source": []
  }
 ],
 "metadata": {
  "anaconda-cloud": {},
  "kernelspec": {
   "display_name": "Python [default]",
   "language": "python",
   "name": "python3"
  },
  "language_info": {
   "codemirror_mode": {
    "name": "ipython",
    "version": 3
   },
   "file_extension": ".py",
   "mimetype": "text/x-python",
   "name": "python",
   "nbconvert_exporter": "python",
   "pygments_lexer": "ipython3",
   "version": "3.5.2"
  }
 },
 "nbformat": 4,
 "nbformat_minor": 2
}
